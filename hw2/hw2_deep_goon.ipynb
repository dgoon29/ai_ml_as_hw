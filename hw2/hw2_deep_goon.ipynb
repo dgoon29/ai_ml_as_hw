{
  "cells": [
    {
      "cell_type": "markdown",
      "metadata": {
        "id": "view-in-github",
        "colab_type": "text"
      },
      "source": [
        "<a href=\"https://colab.research.google.com/github/dgoon29/ai_ml_as_hw/blob/main/hw2/hw2_deep_goon.ipynb\" target=\"_parent\"><img src=\"https://colab.research.google.com/assets/colab-badge.svg\" alt=\"Open In Colab\"/></a>"
      ]
    },
    {
      "cell_type": "markdown",
      "metadata": {
        "id": "S2zjX2ylYTS1"
      },
      "source": [
        "# Homework 2: Analyzing Titanic Dataset\n",
        "### Deep Goon\n",
        "\n",
        "\n",
        "**source:** https://www.kaggle.com/c/titanic/data"
      ]
    },
    {
      "cell_type": "markdown",
      "metadata": {
        "id": "EqF0XyQbY2aW"
      },
      "source": [
        "### **Step 0:** Setup"
      ]
    },
    {
      "cell_type": "code",
      "source": [
        "!apt-get install openjdk-8-jdk-headless -qq > /dev/null\n",
        "!wget -q https://archive.apache.org/dist/spark/spark-3.2.3/spark-3.2.3-bin-hadoop2.7.tgz\n",
        "!tar xf spark-3.2.3-bin-hadoop2.7.tgz\n",
        "!pip install -q findspark\n",
        "!pip install matplotlib"
      ],
      "metadata": {
        "id": "VbQ9jX6DPS_s"
      },
      "execution_count": null,
      "outputs": []
    },
    {
      "cell_type": "code",
      "execution_count": 8,
      "metadata": {
        "id": "09edilH6UeAb"
      },
      "outputs": [],
      "source": [
        "# Imports\n",
        "\n",
        "!apt-get install openjdk-8-jdk-headless -qq > /dev/null\n",
        "!wget -q https://archive.apache.org/dist/spark/spark-3.2.3/spark-3.2.3-bin-hadoop2.7.tgz\n",
        "!tar xf spark-3.2.3-bin-hadoop2.7.tgz\n",
        "!pip install -q findspark\n",
        "\n",
        "import os\n",
        "os.environ[\"JAVA_HOME\"] = \"/usr/lib/jvm/java-8-openjdk-amd64\"\n",
        "os.environ[\"SPARK_HOME\"] = \"/content/spark-3.2.3-bin-hadoop2.7\"\n",
        "\n",
        "import findspark\n",
        "findspark.init()\n",
        "from pyspark.sql import SparkSession\n",
        "spark = SparkSession.builder.master(\"local[*]\").getOrCreate()\n",
        "\n",
        "from pyspark.ml.classification import LogisticRegression\n",
        "from pyspark.ml.feature import VectorAssembler\n"
      ]
    },
    {
      "cell_type": "code",
      "execution_count": null,
      "metadata": {
        "id": "0KvtnoGwVjjf"
      },
      "outputs": [],
      "source": [
        "# from google.colab import drive\n",
        "# drive.mount('/content/drive/')\n",
        "\n",
        "# # d('/content/drive/My Drive/Colab Notebooks/Spark ML Notebooks/My Work/Homework/Homework 2/titanic_train.csv')"
      ]
    },
    {
      "cell_type": "markdown",
      "metadata": {
        "id": "09jbLUd3W4hS"
      },
      "source": [
        "### **Step 1:** Load Titanic Dataset from local folder\n",
        "\n",
        "\n"
      ]
    },
    {
      "cell_type": "code",
      "execution_count": null,
      "metadata": {
        "id": "bH5iqNTNWYX0"
      },
      "outputs": [],
      "source": [
        "from google.colab import files\n",
        "files.upload()"
      ]
    },
    {
      "cell_type": "code",
      "execution_count": 10,
      "metadata": {
        "id": "CCdqpBpTWkrR"
      },
      "outputs": [],
      "source": [
        "dataset = spark.read.csv('titanic_train.csv', inferSchema=True, header=True)"
      ]
    },
    {
      "cell_type": "markdown",
      "metadata": {
        "id": "sYfO7wmuXstM"
      },
      "source": [
        "### **Step 2:** Familiarize yourself with the dataset"
      ]
    },
    {
      "cell_type": "markdown",
      "metadata": {
        "id": "cgTHJ55mZOe9"
      },
      "source": [
        "#### i) Print the dataset"
      ]
    },
    {
      "cell_type": "code",
      "execution_count": 11,
      "metadata": {
        "id": "RYdaqOasWuzh",
        "colab": {
          "base_uri": "https://localhost:8080/"
        },
        "outputId": "5144e1a2-b90b-4bc7-aaac-8cb5b2a9125e"
      },
      "outputs": [
        {
          "output_type": "stream",
          "name": "stdout",
          "text": [
            "root\n",
            " |-- PassengerId: integer (nullable = true)\n",
            " |-- Survived: integer (nullable = true)\n",
            " |-- Pclass: integer (nullable = true)\n",
            " |-- Name: string (nullable = true)\n",
            " |-- Sex: string (nullable = true)\n",
            " |-- Age: double (nullable = true)\n",
            " |-- SibSp: integer (nullable = true)\n",
            " |-- Parch: integer (nullable = true)\n",
            " |-- Ticket: string (nullable = true)\n",
            " |-- Fare: double (nullable = true)\n",
            " |-- Cabin: string (nullable = true)\n",
            " |-- Embarked: string (nullable = true)\n",
            "\n"
          ]
        }
      ],
      "source": [
        "dataset.printSchema()"
      ]
    },
    {
      "cell_type": "markdown",
      "metadata": {
        "id": "HNtarPMlZaf7"
      },
      "source": [
        "#### ii) Print first 10 rows of the dataset"
      ]
    },
    {
      "cell_type": "code",
      "execution_count": 12,
      "metadata": {
        "id": "R04YZ8VpZT8o",
        "colab": {
          "base_uri": "https://localhost:8080/"
        },
        "outputId": "3a17c77c-6bcb-48c8-e68e-1f9b0ad2a3ca"
      },
      "outputs": [
        {
          "output_type": "stream",
          "name": "stdout",
          "text": [
            "+-----------+--------+------+--------------------+------+----+-----+-----+----------------+-------+-----+--------+\n",
            "|PassengerId|Survived|Pclass|                Name|   Sex| Age|SibSp|Parch|          Ticket|   Fare|Cabin|Embarked|\n",
            "+-----------+--------+------+--------------------+------+----+-----+-----+----------------+-------+-----+--------+\n",
            "|          1|       0|     3|Braund, Mr. Owen ...|  male|22.0|    1|    0|       A/5 21171|   7.25| null|       S|\n",
            "|          2|       1|     1|Cumings, Mrs. Joh...|female|38.0|    1|    0|        PC 17599|71.2833|  C85|       C|\n",
            "|          3|       1|     3|Heikkinen, Miss. ...|female|26.0|    0|    0|STON/O2. 3101282|  7.925| null|       S|\n",
            "|          4|       1|     1|Futrelle, Mrs. Ja...|female|35.0|    1|    0|          113803|   53.1| C123|       S|\n",
            "|          5|       0|     3|Allen, Mr. Willia...|  male|35.0|    0|    0|          373450|   8.05| null|       S|\n",
            "|          6|       0|     3|    Moran, Mr. James|  male|null|    0|    0|          330877| 8.4583| null|       Q|\n",
            "|          7|       0|     1|McCarthy, Mr. Tim...|  male|54.0|    0|    0|           17463|51.8625|  E46|       S|\n",
            "|          8|       0|     3|Palsson, Master. ...|  male| 2.0|    3|    1|          349909| 21.075| null|       S|\n",
            "|          9|       1|     3|Johnson, Mrs. Osc...|female|27.0|    0|    2|          347742|11.1333| null|       S|\n",
            "|         10|       1|     2|Nasser, Mrs. Nich...|female|14.0|    1|    0|          237736|30.0708| null|       C|\n",
            "+-----------+--------+------+--------------------+------+----+-----+-----+----------------+-------+-----+--------+\n",
            "only showing top 10 rows\n",
            "\n"
          ]
        }
      ],
      "source": [
        "dataset.show(10)"
      ]
    },
    {
      "cell_type": "markdown",
      "metadata": {
        "id": "BwK8clrFiDRl"
      },
      "source": [
        "#### iii) Summary statistics"
      ]
    },
    {
      "cell_type": "code",
      "execution_count": 13,
      "metadata": {
        "id": "VhF8kp7WZiYE",
        "colab": {
          "base_uri": "https://localhost:8080/",
          "height": 187
        },
        "outputId": "cd0140d5-7a53-47b2-f745-e3133a8956c2"
      },
      "outputs": [
        {
          "output_type": "execute_result",
          "data": {
            "text/plain": [
              "<bound method DataFrame.show of DataFrame[summary: string, PassengerId: string, Survived: string, Pclass: string, Name: string, Sex: string, Age: string, SibSp: string, Parch: string, Ticket: string, Fare: string, Cabin: string, Embarked: string]>"
            ],
            "text/html": [
              "<div style=\"max-width:800px; border: 1px solid var(--colab-border-color);\"><style>\n",
              "      pre.function-repr-contents {\n",
              "        overflow-x: auto;\n",
              "        padding: 8px 12px;\n",
              "        max-height: 500px;\n",
              "      }\n",
              "\n",
              "      pre.function-repr-contents.function-repr-contents-collapsed {\n",
              "        cursor: pointer;\n",
              "        max-height: 100px;\n",
              "      }\n",
              "    </style>\n",
              "    <pre style=\"white-space: initial; background:\n",
              "         var(--colab-secondary-surface-color); padding: 8px 12px;\n",
              "         border-bottom: 1px solid var(--colab-border-color);\"><b>pyspark.sql.dataframe.DataFrame.show</b><br/>def show(n=20, truncate=True, vertical=False)</pre><pre class=\"function-repr-contents function-repr-contents-collapsed\" style=\"\"><a class=\"filepath\" style=\"display:none\" href=\"#\">/content/spark-3.2.3-bin-hadoop2.7/python/pyspark/sql/dataframe.py</a>Prints the first ``n`` rows to the console.\n",
              "\n",
              ".. versionadded:: 1.3.0\n",
              "\n",
              "Parameters\n",
              "----------\n",
              "n : int, optional\n",
              "    Number of rows to show.\n",
              "truncate : bool or int, optional\n",
              "    If set to ``True``, truncate strings longer than 20 chars by default.\n",
              "    If set to a number greater than one, truncates long strings to length ``truncate``\n",
              "    and align cells right.\n",
              "vertical : bool, optional\n",
              "    If set to ``True``, print output rows vertically (one line\n",
              "    per column value).\n",
              "\n",
              "Examples\n",
              "--------\n",
              "&gt;&gt;&gt; df\n",
              "DataFrame[age: int, name: string]\n",
              "&gt;&gt;&gt; df.show()\n",
              "+---+-----+\n",
              "|age| name|\n",
              "+---+-----+\n",
              "|  2|Alice|\n",
              "|  5|  Bob|\n",
              "+---+-----+\n",
              "&gt;&gt;&gt; df.show(truncate=3)\n",
              "+---+----+\n",
              "|age|name|\n",
              "+---+----+\n",
              "|  2| Ali|\n",
              "|  5| Bob|\n",
              "+---+----+\n",
              "&gt;&gt;&gt; df.show(vertical=True)\n",
              "-RECORD 0-----\n",
              " age  | 2\n",
              " name | Alice\n",
              "-RECORD 1-----\n",
              " age  | 5\n",
              " name | Bob</pre>\n",
              "      <script>\n",
              "      if (google.colab.kernel.accessAllowed && google.colab.files && google.colab.files.view) {\n",
              "        for (const element of document.querySelectorAll('.filepath')) {\n",
              "          element.style.display = 'block'\n",
              "          element.onclick = (event) => {\n",
              "            event.preventDefault();\n",
              "            event.stopPropagation();\n",
              "            google.colab.files.view(element.textContent, 443);\n",
              "          };\n",
              "        }\n",
              "      }\n",
              "      for (const element of document.querySelectorAll('.function-repr-contents')) {\n",
              "        element.onclick = (event) => {\n",
              "          event.preventDefault();\n",
              "          event.stopPropagation();\n",
              "          element.classList.toggle('function-repr-contents-collapsed');\n",
              "        };\n",
              "      }\n",
              "      </script>\n",
              "      </div>"
            ]
          },
          "metadata": {},
          "execution_count": 13
        }
      ],
      "source": [
        "dataset.summary().show"
      ]
    },
    {
      "cell_type": "code",
      "execution_count": 14,
      "metadata": {
        "id": "7w5R_tzTaKg8",
        "colab": {
          "base_uri": "https://localhost:8080/"
        },
        "outputId": "13ee9ccb-4260-4e34-e4e8-9a455a781411"
      },
      "outputs": [
        {
          "output_type": "stream",
          "name": "stdout",
          "text": [
            "+------+-----+\n",
            "|   Sex|count|\n",
            "+------+-----+\n",
            "|  male|  577|\n",
            "|female|  314|\n",
            "+------+-----+\n",
            "\n",
            "+--------+-----+\n",
            "|Embarked|count|\n",
            "+--------+-----+\n",
            "|       S|  644|\n",
            "|       C|  168|\n",
            "|       Q|   77|\n",
            "|    null|    2|\n",
            "+--------+-----+\n",
            "\n"
          ]
        }
      ],
      "source": [
        "from pyspark.sql.functions import col\n",
        "\n",
        "dataset.groupBy(\"Sex\").count().orderBy(col(\"count\").desc()).show(10)\n",
        "dataset.groupBy(\"Embarked\").count().orderBy(col(\"count\").desc()).show(10)\n",
        "\n"
      ]
    },
    {
      "cell_type": "code",
      "execution_count": 15,
      "metadata": {
        "id": "UqNpuPHubz8V",
        "colab": {
          "base_uri": "https://localhost:8080/"
        },
        "outputId": "34b60abb-ed7c-4c51-85b0-4200160b6369"
      },
      "outputs": [
        {
          "output_type": "stream",
          "name": "stdout",
          "text": [
            "+-----------+--------+------+----+---+---+-----+-----+------+----+-----+--------+\n",
            "|PassengerId|Survived|Pclass|Name|Sex|Age|SibSp|Parch|Ticket|Fare|Cabin|Embarked|\n",
            "+-----------+--------+------+----+---+---+-----+-----+------+----+-----+--------+\n",
            "|          0|       0|     0|   0|  0|177|    0|    0|     0|   0|  687|       2|\n",
            "+-----------+--------+------+----+---+---+-----+-----+------+----+-----+--------+\n",
            "\n"
          ]
        }
      ],
      "source": [
        "from pyspark.sql.functions import col, sum\n",
        "\n",
        "null_counts = dataset.select([sum(col(c).isNull().cast(\"int\")).alias(c) for c in dataset.columns])\n",
        "null_counts.show()\n",
        "df_clean = dataset.dropna()\n"
      ]
    },
    {
      "cell_type": "code",
      "execution_count": 16,
      "metadata": {
        "id": "ctzZwDM5dnQK",
        "colab": {
          "base_uri": "https://localhost:8080/"
        },
        "outputId": "c0ce32c9-52b2-430b-a4f7-6b97911044a9"
      },
      "outputs": [
        {
          "output_type": "execute_result",
          "data": {
            "text/plain": [
              "891"
            ]
          },
          "metadata": {},
          "execution_count": 16
        }
      ],
      "source": [
        "dataset.count()"
      ]
    },
    {
      "cell_type": "markdown",
      "metadata": {
        "id": "X-DbznpsfgD5"
      },
      "source": [
        "##### Answer to v) I might drop the cabin column as it’s mostly empty (687 Nulls out of 891 total observations). For missing Age values, I will fill them with the average age."
      ]
    },
    {
      "cell_type": "code",
      "execution_count": 17,
      "metadata": {
        "id": "Op8vK0-bfnlG"
      },
      "outputs": [],
      "source": [
        "from pyspark.sql.functions import col\n",
        "\n",
        "feature_columns = ['Pclass', 'Sex', 'Age', 'SibSp', 'Parch', 'Fare', 'Embarked']\n",
        "target_column = 'Survived'\n",
        "\n",
        "df = dataset.select(*feature_columns, target_column)\n",
        "\n",
        "for column in ['Pclass', 'Age', 'SibSp', 'Parch', 'Fare', 'Survived']:\n",
        "    df = df.withColumn(column, col(column).cast('double'))\n"
      ]
    },
    {
      "cell_type": "code",
      "execution_count": 18,
      "metadata": {
        "id": "wQx56sYjiKD2",
        "colab": {
          "base_uri": "https://localhost:8080/"
        },
        "outputId": "748ebc2a-d3ef-45be-8216-c4d3f041eb9d"
      },
      "outputs": [
        {
          "output_type": "stream",
          "name": "stdout",
          "text": [
            "+------+------+----+-----+-----+-------+--------+--------+\n",
            "|Pclass|   Sex| Age|SibSp|Parch|   Fare|Embarked|Survived|\n",
            "+------+------+----+-----+-----+-------+--------+--------+\n",
            "|   3.0|  male|22.0|  1.0|  0.0|   7.25|       S|     0.0|\n",
            "|   1.0|female|38.0|  1.0|  0.0|71.2833|       C|     1.0|\n",
            "|   3.0|female|26.0|  0.0|  0.0|  7.925|       S|     1.0|\n",
            "|   1.0|female|35.0|  1.0|  0.0|   53.1|       S|     1.0|\n",
            "|   3.0|  male|35.0|  0.0|  0.0|   8.05|       S|     0.0|\n",
            "|   3.0|  male|null|  0.0|  0.0| 8.4583|       Q|     0.0|\n",
            "|   1.0|  male|54.0|  0.0|  0.0|51.8625|       S|     0.0|\n",
            "|   3.0|  male| 2.0|  3.0|  1.0| 21.075|       S|     0.0|\n",
            "|   3.0|female|27.0|  0.0|  2.0|11.1333|       S|     1.0|\n",
            "|   2.0|female|14.0|  1.0|  0.0|30.0708|       C|     1.0|\n",
            "+------+------+----+-----+-----+-------+--------+--------+\n",
            "only showing top 10 rows\n",
            "\n"
          ]
        }
      ],
      "source": [
        "df.show(10)"
      ]
    },
    {
      "cell_type": "code",
      "execution_count": 19,
      "metadata": {
        "id": "0wH2jWiSiKG4"
      },
      "outputs": [],
      "source": [
        "from pyspark.sql.functions import when, mean\n",
        "\n",
        "mean_age = df.select(mean('Age')).collect()[0][0]\n",
        "\n",
        "df = df.withColumn('AgeNA', when(col('Age').isNull(), 1).otherwise(0))\n",
        "\n",
        "df = df.na.fill({'Age': mean_age})"
      ]
    },
    {
      "cell_type": "code",
      "execution_count": 20,
      "metadata": {
        "id": "rRrdyNhhiKLr",
        "colab": {
          "base_uri": "https://localhost:8080/"
        },
        "outputId": "1ebc5277-ad4b-44a5-c66d-00af5b558562"
      },
      "outputs": [
        {
          "output_type": "stream",
          "name": "stdout",
          "text": [
            "+-------+------------------+------+------------------+------------------+-------------------+-----------------+--------+-------------------+-------------------+\n",
            "|summary|            Pclass|   Sex|               Age|             SibSp|              Parch|             Fare|Embarked|           Survived|              AgeNA|\n",
            "+-------+------------------+------+------------------+------------------+-------------------+-----------------+--------+-------------------+-------------------+\n",
            "|  count|               891|   891|               891|               891|                891|              891|     889|                891|                891|\n",
            "|   mean| 2.308641975308642|  null|29.699117647058763|0.5230078563411896|0.38159371492704824| 32.2042079685746|    null| 0.3838383838383838|0.19865319865319866|\n",
            "| stddev|0.8360712409770491|  null|13.002015226002891|1.1027434322934315| 0.8060572211299488|49.69342859718089|    null|0.48659245426485753|0.39921043398804806|\n",
            "|    min|               1.0|female|              0.42|               0.0|                0.0|              0.0|       C|                0.0|                  0|\n",
            "|    25%|               2.0|  null|              22.0|               0.0|                0.0|           7.8958|    null|                0.0|                  0|\n",
            "|    50%|               3.0|  null| 29.69911764705882|               0.0|                0.0|          14.4542|    null|                0.0|                  0|\n",
            "|    75%|               3.0|  null|              35.0|               1.0|                0.0|             31.0|    null|                1.0|                  0|\n",
            "|    max|               3.0|  male|              80.0|               8.0|                6.0|         512.3292|       S|                1.0|                  1|\n",
            "+-------+------------------+------+------------------+------------------+-------------------+-----------------+--------+-------------------+-------------------+\n",
            "\n"
          ]
        }
      ],
      "source": [
        "df.summary().show()"
      ]
    },
    {
      "cell_type": "code",
      "execution_count": 21,
      "metadata": {
        "id": "6TAVTWpLiKO2",
        "colab": {
          "base_uri": "https://localhost:8080/"
        },
        "outputId": "b32c76fb-fcf2-400d-ce52-dbdf877cb798"
      },
      "outputs": [
        {
          "output_type": "stream",
          "name": "stdout",
          "text": [
            "+------+---+---+-----+-----+----+--------+--------+-----+\n",
            "|Pclass|Sex|Age|SibSp|Parch|Fare|Embarked|Survived|AgeNA|\n",
            "+------+---+---+-----+-----+----+--------+--------+-----+\n",
            "|     0|  0|  0|    0|    0|   0|       2|       0|    0|\n",
            "+------+---+---+-----+-----+----+--------+--------+-----+\n",
            "\n"
          ]
        }
      ],
      "source": [
        "null_counts_2 = df.select([sum(col(c).isNull().cast(\"int\")).alias(c) for c in df.columns])\n",
        "\n",
        "null_counts_2.show()"
      ]
    },
    {
      "cell_type": "code",
      "execution_count": 48,
      "metadata": {
        "id": "C_OskLQOiKRb"
      },
      "outputs": [],
      "source": [
        "from pyspark.ml.feature import StringIndexer, OneHotEncoder\n",
        "\n",
        "sex_indexer = StringIndexer(inputCol=\"Sex\", outputCol=\"Sex_ix\", handleInvalid=\"keep\")\n",
        "sex_encoder = OneHotEncoder(inputCol=\"Sex_ix\", outputCol=\"Sex_Vec\")\n",
        "\n",
        "embarked_indexer = StringIndexer(inputCol=\"Embarked\", outputCol=\"Embarked_ix\", handleInvalid=\"keep\")\n",
        "embarked_encoder = OneHotEncoder(inputCol=\"Embarked_ix\", outputCol=\"Embarked_Vec\")\n",
        "\n",
        "indexed_cols = ['Pclass', 'Sex_Vec', 'Age', 'SibSp', 'Parch', 'Fare', 'Embarked_Vec']"
      ]
    },
    {
      "cell_type": "code",
      "execution_count": 49,
      "metadata": {
        "id": "Td6VS9iViKUR"
      },
      "outputs": [],
      "source": [
        "va = VectorAssembler(inputCols=indexed_cols , outputCol=\"features\")"
      ]
    },
    {
      "cell_type": "code",
      "execution_count": 68,
      "metadata": {
        "id": "3a8VAVg_iKWd"
      },
      "outputs": [],
      "source": [
        "lr = LogisticRegression(labelCol='Survived', featuresCol=\"features\", maxIter=10, regParam=0.3, elasticNetParam=0.8)"
      ]
    },
    {
      "cell_type": "code",
      "execution_count": 69,
      "metadata": {
        "id": "c1iJU-2LiKZP"
      },
      "outputs": [],
      "source": [
        "steps = [sex_indexer, sex_encoder, embarked_indexer, embarked_encoder, va, lr]"
      ]
    },
    {
      "cell_type": "code",
      "execution_count": 70,
      "metadata": {
        "id": "KteHaPyhiKbo"
      },
      "outputs": [],
      "source": [
        "from pyspark.ml import Pipeline\n",
        "pl = Pipeline(stages=steps)"
      ]
    },
    {
      "cell_type": "code",
      "source": [
        "train_df, test_df = df.randomSplit([0.7, 0.3], seed=42)\n",
        "\n",
        "print(train_df.count())\n",
        "print(test_df.count())"
      ],
      "metadata": {
        "colab": {
          "base_uri": "https://localhost:8080/"
        },
        "id": "8VmJsL7kIQqH",
        "outputId": "ae9beceb-c45d-48f2-9b03-0f0e40ccceeb"
      },
      "execution_count": 58,
      "outputs": [
        {
          "output_type": "stream",
          "name": "stdout",
          "text": [
            "659\n",
            "232\n"
          ]
        }
      ]
    },
    {
      "cell_type": "code",
      "execution_count": 59,
      "metadata": {
        "id": "-baY_hcXiKeF"
      },
      "outputs": [],
      "source": [
        "plmodel = pl.fit(train_df)"
      ]
    },
    {
      "cell_type": "code",
      "execution_count": 71,
      "metadata": {
        "id": "D-KQUh4PiKjI",
        "colab": {
          "base_uri": "https://localhost:8080/"
        },
        "outputId": "b88d66d2-7b8b-414b-a74b-b4483c5d7a56"
      },
      "outputs": [
        {
          "output_type": "stream",
          "name": "stdout",
          "text": [
            "+--------------------+--------+----------+\n",
            "|            features|Survived|prediction|\n",
            "+--------------------+--------+----------+\n",
            "|[1.0,0.0,1.0,15.0...|     1.0|       1.0|\n",
            "|[1.0,0.0,1.0,17.0...|     1.0|       1.0|\n",
            "|[1.0,0.0,1.0,18.0...|     1.0|       1.0|\n",
            "|[1.0,0.0,1.0,18.0...|     1.0|       1.0|\n",
            "|[1.0,0.0,1.0,19.0...|     1.0|       1.0|\n",
            "|(10,[0,2,3,6,7],[...|     1.0|       1.0|\n",
            "|[1.0,0.0,1.0,21.0...|     1.0|       1.0|\n",
            "|[1.0,0.0,1.0,22.0...|     1.0|       1.0|\n",
            "|[1.0,0.0,1.0,23.0...|     1.0|       1.0|\n",
            "|(10,[0,2,3,6,8],[...|     1.0|       1.0|\n",
            "|(10,[0,2,3,6,8],[...|     1.0|       1.0|\n",
            "|(10,[0,2,3,6,7],[...|     1.0|       1.0|\n",
            "|(10,[0,2,3,6,7],[...|     1.0|       1.0|\n",
            "|(10,[0,2,3,6,8],[...|     1.0|       1.0|\n",
            "|[1.0,0.0,1.0,29.6...|     1.0|       1.0|\n",
            "+--------------------+--------+----------+\n",
            "only showing top 15 rows\n",
            "\n"
          ]
        }
      ],
      "source": [
        "predictions = plmodel.transform(test_df)"
      ]
    },
    {
      "cell_type": "code",
      "execution_count": 72,
      "metadata": {
        "id": "rH_Q4tC4iKlk",
        "colab": {
          "base_uri": "https://localhost:8080/"
        },
        "outputId": "35b40f95-a229-46b0-a201-be8d99b75078"
      },
      "outputs": [
        {
          "output_type": "stream",
          "name": "stdout",
          "text": [
            "[-0.9811139833129975,-1.4334509732767153,1.4334509732777023,-0.036646044009181415,-0.48121362032778575,-0.08530258294337861,0.0013164855171218506,-17.60729379461287,-17.017832859130557,-17.436663429920383]\n",
            "20.8285849410488\n"
          ]
        }
      ],
      "source": [
        "trained_lr_model  = plmodel.stages[-1]\n",
        "print(str(trained_lr_model.coefficients))\n",
        "print(str(trained_lr_model.intercept))\n"
      ]
    },
    {
      "cell_type": "code",
      "execution_count": 74,
      "metadata": {
        "id": "T6ff1fl8iKwR",
        "colab": {
          "base_uri": "https://localhost:8080/"
        },
        "outputId": "6105e88c-c323-40c9-f066-54223005e082"
      },
      "outputs": [
        {
          "output_type": "stream",
          "name": "stdout",
          "text": [
            "+--------------------+--------+----------+\n",
            "|            features|Survived|prediction|\n",
            "+--------------------+--------+----------+\n",
            "|[1.0,0.0,1.0,15.0...|     1.0|       1.0|\n",
            "|[1.0,0.0,1.0,17.0...|     1.0|       1.0|\n",
            "|[1.0,0.0,1.0,18.0...|     1.0|       1.0|\n",
            "|[1.0,0.0,1.0,18.0...|     1.0|       1.0|\n",
            "|[1.0,0.0,1.0,19.0...|     1.0|       1.0|\n",
            "+--------------------+--------+----------+\n",
            "only showing top 5 rows\n",
            "\n"
          ]
        }
      ],
      "source": [
        "predictions.select(\"features\", \"Survived\", \"prediction\").show(5)"
      ]
    },
    {
      "cell_type": "code",
      "execution_count": 81,
      "metadata": {
        "id": "4aNjce1CiKqe",
        "colab": {
          "base_uri": "https://localhost:8080/"
        },
        "outputId": "4554f61a-fb8b-4092-db9d-0b48343e0509"
      },
      "outputs": [
        {
          "output_type": "stream",
          "name": "stdout",
          "text": [
            "+--------------------+-----+\n",
            "|                 FPR|  TPR|\n",
            "+--------------------+-----+\n",
            "|                 0.0|  0.0|\n",
            "|                 0.0|0.004|\n",
            "|                 0.0|0.008|\n",
            "|                 0.0|0.012|\n",
            "|                 0.0|0.016|\n",
            "|                 0.0| 0.02|\n",
            "|                 0.0|0.024|\n",
            "|                 0.0|0.028|\n",
            "|                 0.0|0.032|\n",
            "|                 0.0|0.036|\n",
            "|                 0.0| 0.04|\n",
            "|                 0.0|0.044|\n",
            "|0.002444987775061...|0.044|\n",
            "|0.002444987775061...|0.048|\n",
            "|0.002444987775061...|0.052|\n",
            "|0.002444987775061...|0.056|\n",
            "|0.002444987775061...| 0.06|\n",
            "|0.002444987775061...|0.064|\n",
            "|0.002444987775061...|0.068|\n",
            "|0.002444987775061...|0.072|\n",
            "+--------------------+-----+\n",
            "only showing top 20 rows\n",
            "\n",
            "0.8540244498777505\n"
          ]
        },
        {
          "output_type": "stream",
          "name": "stderr",
          "text": [
            "/content/spark-3.2.3-bin-hadoop2.7/python/pyspark/sql/context.py:125: FutureWarning: Deprecated in 3.0.0. Use SparkSession.builder.getOrCreate() instead.\n",
            "  warnings.warn(\n"
          ]
        }
      ],
      "source": [
        "trainingSummary = trained_lr_model.summary\n",
        "trainingSummary.roc.show()\n",
        "\n",
        "auc = trainingSummary.areaUnderROC\n",
        "print(auc)\n",
        "\n",
        "\n",
        "### Question - how does this find the AUC on testing?"
      ]
    },
    {
      "cell_type": "markdown",
      "source": [
        "## **Appendix**"
      ],
      "metadata": {
        "id": "DEehO3L5OKfm"
      }
    },
    {
      "cell_type": "code",
      "source": [
        "from pyspark.ml.evaluation import BinaryClassificationEvaluator\n",
        "\n",
        "# Initialize the evaluator with label column and metric name\n",
        "evaluator = BinaryClassificationEvaluator(labelCol=\"Survived\", metricName=\"areaUnderROC\")\n",
        "\n",
        "# Compute the AUC on the predictions DataFrame\n",
        "auc = evaluator.evaluate(predictions)\n",
        "\n",
        "print(f\"Test AUC: {auc}\")\n"
      ],
      "metadata": {
        "colab": {
          "base_uri": "https://localhost:8080/"
        },
        "id": "5DJ8g1MMMUlZ",
        "outputId": "d83b1e97-0b0c-4e5d-83de-6dccb3e29c82"
      },
      "execution_count": 82,
      "outputs": [
        {
          "output_type": "stream",
          "name": "stdout",
          "text": [
            "Test AUC: 0.859976708074535\n"
          ]
        }
      ]
    },
    {
      "cell_type": "code",
      "source": [
        "import matplotlib.pyplot as plt\n",
        "\n",
        "# Get the ROC curve from the training summary\n",
        "roc = trainingSummary.roc.toPandas()\n",
        "\n",
        "# Plot the ROC curve\n",
        "plt.figure(figsize=(5,5))\n",
        "plt.plot(roc['FPR'], roc['TPR'], label='ROC Curve (area = %0.2f)' % trainingSummary.areaUnderROC)\n",
        "plt.plot([0, 1], [0, 1], 'k--')  # Dashed diagonal\n",
        "plt.xlim([0.0, 1.0])\n",
        "plt.ylim([0.0, 1.05])\n",
        "plt.xlabel('False Positive Rate')\n",
        "plt.ylabel('True Positive Rate')\n",
        "plt.title('Training ROC Curve')\n",
        "plt.legend(loc=\"lower right\")\n",
        "plt.show()\n"
      ],
      "metadata": {
        "colab": {
          "base_uri": "https://localhost:8080/",
          "height": 704
        },
        "id": "35QSCFx7MUoP",
        "outputId": "88c66d21-173e-4ec3-8288-6b0f770d49d0"
      },
      "execution_count": 79,
      "outputs": [
        {
          "output_type": "stream",
          "name": "stdout",
          "text": [
            "Requirement already satisfied: matplotlib in /usr/local/lib/python3.10/dist-packages (3.7.1)\n",
            "Requirement already satisfied: contourpy>=1.0.1 in /usr/local/lib/python3.10/dist-packages (from matplotlib) (1.2.0)\n",
            "Requirement already satisfied: cycler>=0.10 in /usr/local/lib/python3.10/dist-packages (from matplotlib) (0.12.1)\n",
            "Requirement already satisfied: fonttools>=4.22.0 in /usr/local/lib/python3.10/dist-packages (from matplotlib) (4.48.1)\n",
            "Requirement already satisfied: kiwisolver>=1.0.1 in /usr/local/lib/python3.10/dist-packages (from matplotlib) (1.4.5)\n",
            "Requirement already satisfied: numpy>=1.20 in /usr/local/lib/python3.10/dist-packages (from matplotlib) (1.25.2)\n",
            "Requirement already satisfied: packaging>=20.0 in /usr/local/lib/python3.10/dist-packages (from matplotlib) (23.2)\n",
            "Requirement already satisfied: pillow>=6.2.0 in /usr/local/lib/python3.10/dist-packages (from matplotlib) (9.4.0)\n",
            "Requirement already satisfied: pyparsing>=2.3.1 in /usr/local/lib/python3.10/dist-packages (from matplotlib) (3.1.1)\n",
            "Requirement already satisfied: python-dateutil>=2.7 in /usr/local/lib/python3.10/dist-packages (from matplotlib) (2.8.2)\n",
            "Requirement already satisfied: six>=1.5 in /usr/local/lib/python3.10/dist-packages (from python-dateutil>=2.7->matplotlib) (1.16.0)\n"
          ]
        },
        {
          "output_type": "display_data",
          "data": {
            "text/plain": [
              "<Figure size 500x500 with 1 Axes>"
            ],
            "image/png": "[encoded data removed]"
          },
          "metadata": {}
        }
      ]
    }
  ],
  "metadata": {
    "colab": {
      "provenance": [],
      "authorship_tag": "ABX9TyPLV4HV/udU9xFTKd3pAMZ6",
      "include_colab_link": true
    },
    "kernelspec": {
      "display_name": "Python 3",
      "name": "python3"
    },
    "language_info": {
      "name": "python"
    }
  },
  "nbformat": 4,
  "nbformat_minor": 0
}