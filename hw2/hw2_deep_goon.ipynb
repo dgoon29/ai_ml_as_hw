{
  "nbformat": 4,
  "nbformat_minor": 0,
  "metadata": {
    "colab": {
      "provenance": [],
      "authorship_tag": "ABX9TyPbvkr9w+CZBX8Q2KjGWm3P",
      "include_colab_link": true
    },
    "kernelspec": {
      "name": "python3",
      "display_name": "Python 3"
    },
    "language_info": {
      "name": "python"
    }
  },
  "cells": [
    {
      "cell_type": "markdown",
      "metadata": {
        "id": "view-in-github",
        "colab_type": "text"
      },
      "source": [
        "<a href=\"https://colab.research.google.com/github/dgoon29/ai_ml_as_hw/blob/main/hw2/hw2_deep_goon.ipynb\" target=\"_parent\"><img src=\"https://colab.research.google.com/assets/colab-badge.svg\" alt=\"Open In Colab\"/></a>"
      ]
    },
    {
      "cell_type": "markdown",
      "source": [
        "# Homework 2: Analyzing Titanic Dataset\n",
        "### Deep Goon\n",
        "\n",
        "\n",
        "**source:** https://www.kaggle.com/c/titanic/data"
      ],
      "metadata": {
        "id": "S2zjX2ylYTS1"
      }
    },
    {
      "cell_type": "markdown",
      "source": [
        "### **Step 0:** Setup"
      ],
      "metadata": {
        "id": "EqF0XyQbY2aW"
      }
    },
    {
      "cell_type": "code",
      "execution_count": 12,
      "metadata": {
        "id": "09edilH6UeAb"
      },
      "outputs": [],
      "source": [
        "# Imports\n",
        "\n",
        "!apt-get install openjdk-8-jdk-headless -qq > /dev/null\n",
        "!wget -q https://archive.apache.org/dist/spark/spark-3.2.3/spark-3.2.3-bin-hadoop2.7.tgz\n",
        "!tar xf spark-3.2.3-bin-hadoop2.7.tgz\n",
        "!pip install -q findspark\n",
        "\n",
        "import os\n",
        "os.environ[\"JAVA_HOME\"] = \"/usr/lib/jvm/java-8-openjdk-amd64\"\n",
        "os.environ[\"SPARK_HOME\"] = \"/content/spark-3.2.3-bin-hadoop2.7\"\n",
        "\n",
        "import findspark\n",
        "findspark.init()\n",
        "from pyspark.sql import SparkSession\n",
        "spark = SparkSession.builder.master(\"local[*]\").getOrCreate()\n",
        "\n",
        "from pyspark.ml.classification import LogisticRegression\n",
        "from pyspark.ml.feature import VectorAssembler"
      ]
    },
    {
      "cell_type": "code",
      "source": [
        "# from google.colab import drive\n",
        "# drive.mount('/content/drive/')\n",
        "\n",
        "# # d('/content/drive/My Drive/Colab Notebooks/Spark ML Notebooks/My Work/Homework/Homework 2/titanic_train.csv')"
      ],
      "metadata": {
        "colab": {
          "base_uri": "https://localhost:8080/"
        },
        "id": "0KvtnoGwVjjf",
        "outputId": "3bcf1738-0c29-47a2-890a-f2a9834924a5"
      },
      "execution_count": 5,
      "outputs": [
        {
          "output_type": "stream",
          "name": "stdout",
          "text": [
            "Mounted at /content/drive/\n"
          ]
        }
      ]
    },
    {
      "cell_type": "markdown",
      "source": [
        "### **Step 1:** Load Titanic Dataset from local folder\n",
        "\n",
        "\n"
      ],
      "metadata": {
        "id": "09jbLUd3W4hS"
      }
    },
    {
      "cell_type": "code",
      "source": [
        "from google.colab import files\n",
        "files.upload()"
      ],
      "metadata": {
        "id": "bH5iqNTNWYX0"
      },
      "execution_count": null,
      "outputs": []
    },
    {
      "cell_type": "code",
      "source": [
        "dataset = spark.read.csv('titanic_train.csv', inferSchema=True, header=True)"
      ],
      "metadata": {
        "id": "CCdqpBpTWkrR"
      },
      "execution_count": 23,
      "outputs": []
    },
    {
      "cell_type": "markdown",
      "source": [
        "### **Step 2:** Familiarize yourself with the dataset"
      ],
      "metadata": {
        "id": "sYfO7wmuXstM"
      }
    },
    {
      "cell_type": "markdown",
      "source": [
        "#### i) Print the dataset"
      ],
      "metadata": {
        "id": "cgTHJ55mZOe9"
      }
    },
    {
      "cell_type": "code",
      "source": [
        "dataset.printSchema()"
      ],
      "metadata": {
        "colab": {
          "base_uri": "https://localhost:8080/"
        },
        "id": "RYdaqOasWuzh",
        "outputId": "4c62dc33-a77c-423c-9021-7da97e2edb4f"
      },
      "execution_count": 10,
      "outputs": [
        {
          "output_type": "stream",
          "name": "stdout",
          "text": [
            "root\n",
            " |-- PassengerId: integer (nullable = true)\n",
            " |-- Survived: integer (nullable = true)\n",
            " |-- Pclass: integer (nullable = true)\n",
            " |-- Name: string (nullable = true)\n",
            " |-- Sex: string (nullable = true)\n",
            " |-- Age: double (nullable = true)\n",
            " |-- SibSp: integer (nullable = true)\n",
            " |-- Parch: integer (nullable = true)\n",
            " |-- Ticket: string (nullable = true)\n",
            " |-- Fare: double (nullable = true)\n",
            " |-- Cabin: string (nullable = true)\n",
            " |-- Embarked: string (nullable = true)\n",
            "\n"
          ]
        }
      ]
    },
    {
      "cell_type": "markdown",
      "source": [
        "#### ii) Print first 10 rows of the dataset"
      ],
      "metadata": {
        "id": "HNtarPMlZaf7"
      }
    },
    {
      "cell_type": "code",
      "source": [
        "dataset.show(10)"
      ],
      "metadata": {
        "colab": {
          "base_uri": "https://localhost:8080/"
        },
        "id": "R04YZ8VpZT8o",
        "outputId": "4564a7f7-3c7f-48b5-8e69-719aa60d4395"
      },
      "execution_count": 13,
      "outputs": [
        {
          "output_type": "stream",
          "name": "stdout",
          "text": [
            "+-----------+--------+------+--------------------+------+----+-----+-----+----------------+-------+-----+--------+\n",
            "|PassengerId|Survived|Pclass|                Name|   Sex| Age|SibSp|Parch|          Ticket|   Fare|Cabin|Embarked|\n",
            "+-----------+--------+------+--------------------+------+----+-----+-----+----------------+-------+-----+--------+\n",
            "|          1|       0|     3|Braund, Mr. Owen ...|  male|22.0|    1|    0|       A/5 21171|   7.25| null|       S|\n",
            "|          2|       1|     1|Cumings, Mrs. Joh...|female|38.0|    1|    0|        PC 17599|71.2833|  C85|       C|\n",
            "|          3|       1|     3|Heikkinen, Miss. ...|female|26.0|    0|    0|STON/O2. 3101282|  7.925| null|       S|\n",
            "|          4|       1|     1|Futrelle, Mrs. Ja...|female|35.0|    1|    0|          113803|   53.1| C123|       S|\n",
            "|          5|       0|     3|Allen, Mr. Willia...|  male|35.0|    0|    0|          373450|   8.05| null|       S|\n",
            "|          6|       0|     3|    Moran, Mr. James|  male|null|    0|    0|          330877| 8.4583| null|       Q|\n",
            "|          7|       0|     1|McCarthy, Mr. Tim...|  male|54.0|    0|    0|           17463|51.8625|  E46|       S|\n",
            "|          8|       0|     3|Palsson, Master. ...|  male| 2.0|    3|    1|          349909| 21.075| null|       S|\n",
            "|          9|       1|     3|Johnson, Mrs. Osc...|female|27.0|    0|    2|          347742|11.1333| null|       S|\n",
            "|         10|       1|     2|Nasser, Mrs. Nich...|female|14.0|    1|    0|          237736|30.0708| null|       C|\n",
            "+-----------+--------+------+--------------------+------+----+-----+-----+----------------+-------+-----+--------+\n",
            "only showing top 10 rows\n",
            "\n"
          ]
        }
      ]
    },
    {
      "cell_type": "markdown",
      "source": [
        "#### iii) Summary statistics"
      ],
      "metadata": {
        "id": "BwK8clrFiDRl"
      }
    },
    {
      "cell_type": "code",
      "source": [
        "dataset.summary().show"
      ],
      "metadata": {
        "colab": {
          "base_uri": "https://localhost:8080/"
        },
        "id": "VhF8kp7WZiYE",
        "outputId": "9b546927-b8da-46ce-c7ba-6896504a40f8"
      },
      "execution_count": 16,
      "outputs": [
        {
          "output_type": "stream",
          "name": "stdout",
          "text": [
            "+-------+-----------------+-------------------+------------------+--------------------+------+------------------+------------------+-------------------+------------------+-----------------+-----+--------+\n",
            "|summary|      PassengerId|           Survived|            Pclass|                Name|   Sex|               Age|             SibSp|              Parch|            Ticket|             Fare|Cabin|Embarked|\n",
            "+-------+-----------------+-------------------+------------------+--------------------+------+------------------+------------------+-------------------+------------------+-----------------+-----+--------+\n",
            "|  count|              891|                891|               891|                 891|   891|               714|               891|                891|               891|              891|  204|     889|\n",
            "|   mean|            446.0| 0.3838383838383838| 2.308641975308642|                null|  null| 29.69911764705882|0.5230078563411896|0.38159371492704824|260318.54916792738| 32.2042079685746| null|    null|\n",
            "| stddev|257.3538420152301|0.48659245426485753|0.8360712409770491|                null|  null|14.526497332334035|1.1027434322934315| 0.8060572211299488|471609.26868834975|49.69342859718089| null|    null|\n",
            "|    min|                1|                  0|                 1|\"Andersson, Mr. A...|female|              0.42|                 0|                  0|            110152|              0.0|  A10|       C|\n",
            "|    25%|              223|                  0|                 2|                null|  null|              20.0|                 0|                  0|           19996.0|           7.8958| null|    null|\n",
            "|    50%|              446|                  0|                 3|                null|  null|              28.0|                 0|                  0|          236171.0|          14.4542| null|    null|\n",
            "|    75%|              669|                  1|                 3|                null|  null|              38.0|                 1|                  0|          347743.0|             31.0| null|    null|\n",
            "|    max|              891|                  1|                 3|van Melkebeke, Mr...|  male|              80.0|                 8|                  6|         WE/P 5735|         512.3292|    T|       S|\n",
            "+-------+-----------------+-------------------+------------------+--------------------+------+------------------+------------------+-------------------+------------------+-----------------+-----+--------+\n",
            "\n"
          ]
        }
      ]
    },
    {
      "cell_type": "code",
      "source": [
        "from pyspark.sql.functions import col\n",
        "\n",
        "dataset.groupBy(\"Sex\").count().orderBy(col(\"count\").desc()).show(10)\n",
        "dataset.groupBy(\"Embarked\").count().orderBy(col(\"count\").desc()).show(10)\n",
        "\n"
      ],
      "metadata": {
        "colab": {
          "base_uri": "https://localhost:8080/"
        },
        "id": "7w5R_tzTaKg8",
        "outputId": "6eb8aa15-a0d6-4aa6-a30e-a54a33277515"
      },
      "execution_count": 28,
      "outputs": [
        {
          "output_type": "stream",
          "name": "stdout",
          "text": [
            "+------+-----+\n",
            "|   Sex|count|\n",
            "+------+-----+\n",
            "|  male|  577|\n",
            "|female|  314|\n",
            "+------+-----+\n",
            "\n",
            "+--------+-----+\n",
            "|Embarked|count|\n",
            "+--------+-----+\n",
            "|       S|  644|\n",
            "|       C|  168|\n",
            "|       Q|   77|\n",
            "|    null|    2|\n",
            "+--------+-----+\n",
            "\n"
          ]
        }
      ]
    },
    {
      "cell_type": "code",
      "source": [
        "from pyspark.sql.functions import col, sum\n",
        "\n",
        "# Calculate the number of nulls in each column\n",
        "null_counts = dataset.select([sum(col(c).isNull().cast(\"int\")).alias(c) for c in dataset.columns])\n",
        "\n",
        "null_counts.show()\n",
        "\n",
        "\n",
        "# Drop rows with missing values\n",
        "df_clean = dataset.dropna()\n"
      ],
      "metadata": {
        "colab": {
          "base_uri": "https://localhost:8080/"
        },
        "id": "UqNpuPHubz8V",
        "outputId": "59a4fdb2-4136-4888-a57d-1b343d77f938"
      },
      "execution_count": 33,
      "outputs": [
        {
          "output_type": "stream",
          "name": "stdout",
          "text": [
            "+-----------+--------+------+----+---+---+-----+-----+------+----+-----+--------+\n",
            "|PassengerId|Survived|Pclass|Name|Sex|Age|SibSp|Parch|Ticket|Fare|Cabin|Embarked|\n",
            "+-----------+--------+------+----+---+---+-----+-----+------+----+-----+--------+\n",
            "|          0|       0|     0|   0|  0|177|    0|    0|     0|   0|  687|       2|\n",
            "+-----------+--------+------+----+---+---+-----+-----+------+----+-----+--------+\n",
            "\n"
          ]
        }
      ]
    },
    {
      "cell_type": "code",
      "source": [
        "dataset.count()"
      ],
      "metadata": {
        "colab": {
          "base_uri": "https://localhost:8080/"
        },
        "id": "ctzZwDM5dnQK",
        "outputId": "0314fcba-e1fa-4bad-e4b0-07a30bd7f76b"
      },
      "execution_count": 34,
      "outputs": [
        {
          "output_type": "execute_result",
          "data": {
            "text/plain": [
              "891"
            ]
          },
          "metadata": {},
          "execution_count": 34
        }
      ]
    },
    {
      "cell_type": "markdown",
      "source": [
        "##### Answer to v) I might drop the cabin column as it’s mostly empty (687 Nulls out of 891 total observations). For missing Age values, I will fill them with the average age."
      ],
      "metadata": {
        "id": "X-DbznpsfgD5"
      }
    },
    {
      "cell_type": "code",
      "source": [
        "from pyspark.sql.functions import col\n",
        "\n",
        "# Assuming 'df' is your DataFrame\n",
        "# List of feature columns you plan to use (example: 'Pclass', 'Sex', 'Age', 'Fare')\n",
        "feature_columns = ['Pclass', 'Sex', 'Age', 'SibSp', 'Parch', 'Fare', 'Embarked']\n",
        "target_column = 'Survived'\n",
        "\n",
        "df = dataset.select(*feature_columns, target_column)\n",
        "\n",
        "# Convert numerical columns to double\n",
        "for column in ['Pclass', 'Age', 'SibSp', 'Parch', 'Fare', 'Survived']:\n",
        "    df = df.withColumn(column, col(column).cast('double'))\n"
      ],
      "metadata": {
        "id": "Op8vK0-bfnlG"
      },
      "execution_count": 40,
      "outputs": []
    },
    {
      "cell_type": "code",
      "source": [
        "df.show(10)"
      ],
      "metadata": {
        "colab": {
          "base_uri": "https://localhost:8080/"
        },
        "id": "wQx56sYjiKD2",
        "outputId": "d64c5dd9-ddae-4ef1-8e53-693c993c29f7"
      },
      "execution_count": 48,
      "outputs": [
        {
          "output_type": "stream",
          "name": "stdout",
          "text": [
            "+------+------+-----------------+-----+-----+-------+--------+--------+-----+\n",
            "|Pclass|   Sex|              Age|SibSp|Parch|   Fare|Embarked|Survived|AgeNA|\n",
            "+------+------+-----------------+-----+-----+-------+--------+--------+-----+\n",
            "|   3.0|  male|             22.0|  1.0|  0.0|   7.25|       S|     0.0|    0|\n",
            "|   1.0|female|             38.0|  1.0|  0.0|71.2833|       C|     1.0|    0|\n",
            "|   3.0|female|             26.0|  0.0|  0.0|  7.925|       S|     1.0|    0|\n",
            "|   1.0|female|             35.0|  1.0|  0.0|   53.1|       S|     1.0|    0|\n",
            "|   3.0|  male|             35.0|  0.0|  0.0|   8.05|       S|     0.0|    0|\n",
            "|   3.0|  male|29.69911764705882|  0.0|  0.0| 8.4583|       Q|     0.0|    1|\n",
            "|   1.0|  male|             54.0|  0.0|  0.0|51.8625|       S|     0.0|    0|\n",
            "|   3.0|  male|              2.0|  3.0|  1.0| 21.075|       S|     0.0|    0|\n",
            "|   3.0|female|             27.0|  0.0|  2.0|11.1333|       S|     1.0|    0|\n",
            "|   2.0|female|             14.0|  1.0|  0.0|30.0708|       C|     1.0|    0|\n",
            "+------+------+-----------------+-----+-----+-------+--------+--------+-----+\n",
            "only showing top 10 rows\n",
            "\n"
          ]
        }
      ]
    },
    {
      "cell_type": "code",
      "source": [
        "from pyspark.sql.functions import when, mean\n",
        "\n",
        "mean_age = df.select(mean('Age')).collect()[0][0]\n",
        "\n",
        "df = df.withColumn('AgeNA', when(col('Age').isNull(), 1).otherwise(0))\n",
        "\n",
        "df = df.na.fill({'Age': mean_age})"
      ],
      "metadata": {
        "id": "0wH2jWiSiKG4"
      },
      "execution_count": 47,
      "outputs": []
    },
    {
      "cell_type": "code",
      "source": [
        "df.summary().show()"
      ],
      "metadata": {
        "colab": {
          "base_uri": "https://localhost:8080/"
        },
        "id": "rRrdyNhhiKLr",
        "outputId": "4bb442fb-89ad-438b-fec9-c245d3bb0e1f"
      },
      "execution_count": 49,
      "outputs": [
        {
          "output_type": "stream",
          "name": "stdout",
          "text": [
            "+-------+------------------+------+------------------+------------------+-------------------+-----------------+--------+-------------------+-------------------+\n",
            "|summary|            Pclass|   Sex|               Age|             SibSp|              Parch|             Fare|Embarked|           Survived|              AgeNA|\n",
            "+-------+------------------+------+------------------+------------------+-------------------+-----------------+--------+-------------------+-------------------+\n",
            "|  count|               891|   891|               891|               891|                891|              891|     889|                891|                891|\n",
            "|   mean| 2.308641975308642|  null|29.699117647058763|0.5230078563411896|0.38159371492704824| 32.2042079685746|    null| 0.3838383838383838|0.19865319865319866|\n",
            "| stddev|0.8360712409770491|  null|13.002015226002891|1.1027434322934315| 0.8060572211299488|49.69342859718089|    null|0.48659245426485753|0.39921043398804806|\n",
            "|    min|               1.0|female|              0.42|               0.0|                0.0|              0.0|       C|                0.0|                  0|\n",
            "|    25%|               2.0|  null|              22.0|               0.0|                0.0|           7.8958|    null|                0.0|                  0|\n",
            "|    50%|               3.0|  null| 29.69911764705882|               0.0|                0.0|          14.4542|    null|                0.0|                  0|\n",
            "|    75%|               3.0|  null|              35.0|               1.0|                0.0|             31.0|    null|                1.0|                  0|\n",
            "|    max|               3.0|  male|              80.0|               8.0|                6.0|         512.3292|       S|                1.0|                  1|\n",
            "+-------+------------------+------+------------------+------------------+-------------------+-----------------+--------+-------------------+-------------------+\n",
            "\n"
          ]
        }
      ]
    },
    {
      "cell_type": "code",
      "source": [
        "# Calculate the number of nulls in each column\n",
        "null_counts_2 = df.select([sum(col(c).isNull().cast(\"int\")).alias(c) for c in df.columns])\n",
        "\n",
        "null_counts_2.show()"
      ],
      "metadata": {
        "colab": {
          "base_uri": "https://localhost:8080/"
        },
        "id": "6TAVTWpLiKO2",
        "outputId": "3f597fe4-4e32-43a3-b1ff-6281b7aebeef"
      },
      "execution_count": 50,
      "outputs": [
        {
          "output_type": "stream",
          "name": "stdout",
          "text": [
            "+------+---+---+-----+-----+----+--------+--------+-----+\n",
            "|Pclass|Sex|Age|SibSp|Parch|Fare|Embarked|Survived|AgeNA|\n",
            "+------+---+---+-----+-----+----+--------+--------+-----+\n",
            "|     0|  0|  0|    0|    0|   0|       2|       0|    0|\n",
            "+------+---+---+-----+-----+----+--------+--------+-----+\n",
            "\n"
          ]
        }
      ]
    },
    {
      "cell_type": "code",
      "source": [],
      "metadata": {
        "id": "C_OskLQOiKRb"
      },
      "execution_count": null,
      "outputs": []
    },
    {
      "cell_type": "code",
      "source": [],
      "metadata": {
        "id": "Td6VS9iViKUR"
      },
      "execution_count": null,
      "outputs": []
    },
    {
      "cell_type": "code",
      "source": [],
      "metadata": {
        "id": "3a8VAVg_iKWd"
      },
      "execution_count": null,
      "outputs": []
    },
    {
      "cell_type": "code",
      "source": [],
      "metadata": {
        "id": "c1iJU-2LiKZP"
      },
      "execution_count": null,
      "outputs": []
    },
    {
      "cell_type": "code",
      "source": [],
      "metadata": {
        "id": "KteHaPyhiKbo"
      },
      "execution_count": null,
      "outputs": []
    },
    {
      "cell_type": "code",
      "source": [],
      "metadata": {
        "id": "-baY_hcXiKeF"
      },
      "execution_count": null,
      "outputs": []
    },
    {
      "cell_type": "code",
      "source": [],
      "metadata": {
        "id": "W-0Zky2DiKgj"
      },
      "execution_count": null,
      "outputs": []
    },
    {
      "cell_type": "code",
      "source": [],
      "metadata": {
        "id": "D-KQUh4PiKjI"
      },
      "execution_count": null,
      "outputs": []
    },
    {
      "cell_type": "code",
      "source": [],
      "metadata": {
        "id": "rH_Q4tC4iKlk"
      },
      "execution_count": null,
      "outputs": []
    },
    {
      "cell_type": "code",
      "source": [],
      "metadata": {
        "id": "4aNjce1CiKqe"
      },
      "execution_count": null,
      "outputs": []
    },
    {
      "cell_type": "code",
      "source": [],
      "metadata": {
        "id": "T6ff1fl8iKwR"
      },
      "execution_count": null,
      "outputs": []
    },
    {
      "cell_type": "code",
      "source": [],
      "metadata": {
        "id": "1SCXvSAZiKyg"
      },
      "execution_count": null,
      "outputs": []
    },
    {
      "cell_type": "code",
      "source": [],
      "metadata": {
        "id": "TnmKSbQPiK1K"
      },
      "execution_count": null,
      "outputs": []
    }
  ]
}